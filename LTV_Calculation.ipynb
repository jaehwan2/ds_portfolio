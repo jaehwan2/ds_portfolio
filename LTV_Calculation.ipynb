{
 "cells": [
  {
   "cell_type": "markdown",
   "id": "adc901b3",
   "metadata": {},
   "source": [
    "# &#128202; LTV Caculation"
   ]
  },
  {
   "cell_type": "markdown",
   "id": "d4fd374c",
   "metadata": {},
   "source": [
    "## Data read & setting\n",
    "### Import Module"
   ]
  },
  {
   "cell_type": "code",
   "execution_count": 1,
   "id": "5cd924d1",
   "metadata": {},
   "outputs": [],
   "source": [
    "import pandas as pd\n",
    "import numpy as np\n",
    "from datetime import date, timedelta\n",
    "\n",
    "import matplotlib.pyplot as plt\n",
    "import seaborn as sns\n",
    "\n",
    "import lifetimes\n",
    "from lifetimes import BetaGeoFitter, GammaGammaFitter\n",
    "from lifetimes.utils import summary_data_from_transaction_data\n",
    "\n",
    "from datetime import date"
   ]
  },
  {
   "cell_type": "markdown",
   "id": "01500b79",
   "metadata": {},
   "source": [
    "### PC setting"
   ]
  },
  {
   "cell_type": "code",
   "execution_count": 2,
   "id": "59dcaad4",
   "metadata": {},
   "outputs": [],
   "source": [
    "pd.options.display.float_format = '{:.2f}'.format"
   ]
  },
  {
   "cell_type": "markdown",
   "id": "582ab0fa",
   "metadata": {},
   "source": [
    "### Data read"
   ]
  },
  {
   "cell_type": "code",
   "execution_count": 3,
   "id": "03943253",
   "metadata": {},
   "outputs": [],
   "source": [
    "user_date = pd.read_csv(\"/Users/jaehwan/Desktop/송재환/DS_Project/LTV/user_date.csv\", encoding=\"utf-8\")\n",
    "user_subscription = pd.read_csv(\"/Users/jaehwan/Desktop/송재환/DS_Project/LTV/user_subscription.csv\", encoding=\"utf-8\")\n",
    "df = pd.merge(user_date, user_subscription, on = 'user_id', how = 'left')\n",
    "df['date'] = pd.to_datetime(df['date'])"
   ]
  },
  {
   "cell_type": "markdown",
   "id": "4c3500c2",
   "metadata": {},
   "source": [
    "## EDA"
   ]
  },
  {
   "cell_type": "markdown",
   "id": "3401e17f",
   "metadata": {},
   "source": [
    "![EDA](https://i.esdrop.com/d/AVQLAkLtLT/ZtrY7zzLyB.png)"
   ]
  },
  {
   "cell_type": "markdown",
   "id": "b837b448",
   "metadata": {},
   "source": [
    "## LTV 계산\n",
    "### 구독 사용자의 LTV: 7,496원\n",
    "\n",
    "#### 데이터 관찰 시점은 데이터의 최신일인 2021년 6월 30일로 설정"
   ]
  },
  {
   "cell_type": "markdown",
   "id": "cff769a5",
   "metadata": {},
   "source": [
    "![fomular](https://i.esdrop.com/d/AVQLAkLtLT/rC3LVHiBIt.png)"
   ]
  },
  {
   "cell_type": "code",
   "execution_count": 4,
   "id": "fbab2ee1",
   "metadata": {},
   "outputs": [],
   "source": [
    "# 관찰 시점\n",
    "observation_date='2021-06-30'"
   ]
  },
  {
   "cell_type": "code",
   "execution_count": 5,
   "id": "6ce82ac6",
   "metadata": {},
   "outputs": [
    {
     "name": "stdout",
     "output_type": "stream",
     "text": [
      "<class 'pandas.core.frame.DataFrame'>\n",
      "RangeIndex: 51807 entries, 0 to 51806\n",
      "Data columns (total 3 columns):\n",
      " #   Column   Non-Null Count  Dtype         \n",
      "---  ------   --------------  -----         \n",
      " 0   user_id  51807 non-null  int64         \n",
      " 1   date     51807 non-null  datetime64[ns]\n",
      " 2   count    51807 non-null  int64         \n",
      "dtypes: datetime64[ns](1), int64(2)\n",
      "memory usage: 1.2 MB\n"
     ]
    }
   ],
   "source": [
    "# 구독 사용자 분류\n",
    "s_df = df[df['sub_type'] != \"f\"]\n",
    "\n",
    "# user와 일자별 접속일 확인을 위한 데이터 처리\n",
    "s_df = pd.DataFrame(s_df.groupby(['user_id','date'])['sub_type'].nunique()).rename(columns={'sub_type':'count'})\n",
    "s_df.reset_index(inplace=True)\n",
    "\n",
    "s_df.info()"
   ]
  },
  {
   "cell_type": "code",
   "execution_count": 6,
   "id": "25ed0a33",
   "metadata": {},
   "outputs": [
    {
     "data": {
      "text/html": [
       "<div>\n",
       "<style scoped>\n",
       "    .dataframe tbody tr th:only-of-type {\n",
       "        vertical-align: middle;\n",
       "    }\n",
       "\n",
       "    .dataframe tbody tr th {\n",
       "        vertical-align: top;\n",
       "    }\n",
       "\n",
       "    .dataframe thead th {\n",
       "        text-align: right;\n",
       "    }\n",
       "</style>\n",
       "<table border=\"1\" class=\"dataframe\">\n",
       "  <thead>\n",
       "    <tr style=\"text-align: right;\">\n",
       "      <th></th>\n",
       "      <th>user_id</th>\n",
       "      <th>frequency</th>\n",
       "      <th>recency</th>\n",
       "      <th>T</th>\n",
       "    </tr>\n",
       "  </thead>\n",
       "  <tbody>\n",
       "    <tr>\n",
       "      <th>0</th>\n",
       "      <td>5093</td>\n",
       "      <td>6.00</td>\n",
       "      <td>26.00</td>\n",
       "      <td>28.00</td>\n",
       "    </tr>\n",
       "    <tr>\n",
       "      <th>1</th>\n",
       "      <td>9355</td>\n",
       "      <td>36.00</td>\n",
       "      <td>60.00</td>\n",
       "      <td>60.00</td>\n",
       "    </tr>\n",
       "    <tr>\n",
       "      <th>2</th>\n",
       "      <td>10343</td>\n",
       "      <td>29.00</td>\n",
       "      <td>59.00</td>\n",
       "      <td>59.00</td>\n",
       "    </tr>\n",
       "    <tr>\n",
       "      <th>3</th>\n",
       "      <td>37926</td>\n",
       "      <td>32.00</td>\n",
       "      <td>59.00</td>\n",
       "      <td>59.00</td>\n",
       "    </tr>\n",
       "    <tr>\n",
       "      <th>4</th>\n",
       "      <td>41893</td>\n",
       "      <td>38.00</td>\n",
       "      <td>60.00</td>\n",
       "      <td>60.00</td>\n",
       "    </tr>\n",
       "  </tbody>\n",
       "</table>\n",
       "</div>"
      ],
      "text/plain": [
       "   user_id  frequency  recency     T\n",
       "0     5093       6.00    26.00 28.00\n",
       "1     9355      36.00    60.00 60.00\n",
       "2    10343      29.00    59.00 59.00\n",
       "3    37926      32.00    59.00 59.00\n",
       "4    41893      38.00    60.00 60.00"
      ]
     },
     "execution_count": 6,
     "metadata": {},
     "output_type": "execute_result"
    }
   ],
   "source": [
    "# BG/NBD 모델 적용을 위한 데이터 summarizing\n",
    "summary = summary_data_from_transaction_data(s_df, 'user_id', 'date', observation_period_end = observation_date)\n",
    "summary.reset_index().head(5)"
   ]
  },
  {
   "cell_type": "code",
   "execution_count": 9,
   "id": "81e4ffee",
   "metadata": {},
   "outputs": [
    {
     "data": {
      "text/plain": [
       "<lifetimes.BetaGeoFitter: fitted with 1046 subjects, a: 0.06, alpha: 2.83, b: 0.70, r: 1.56>"
      ]
     },
     "execution_count": 9,
     "metadata": {},
     "output_type": "execute_result"
    }
   ],
   "source": [
    "# BG/NBD 모델 적용\n",
    "bgf = BetaGeoFitter(penalizer_coef=0.1)\n",
    "bgf.fit(summary['frequency'], summary['recency'], summary['T'])"
   ]
  },
  {
   "cell_type": "code",
   "execution_count": 10,
   "id": "db8c45db",
   "metadata": {},
   "outputs": [
    {
     "data": {
      "text/html": [
       "<div>\n",
       "<style scoped>\n",
       "    .dataframe tbody tr th:only-of-type {\n",
       "        vertical-align: middle;\n",
       "    }\n",
       "\n",
       "    .dataframe tbody tr th {\n",
       "        vertical-align: top;\n",
       "    }\n",
       "\n",
       "    .dataframe thead th {\n",
       "        text-align: right;\n",
       "    }\n",
       "</style>\n",
       "<table border=\"1\" class=\"dataframe\">\n",
       "  <thead>\n",
       "    <tr style=\"text-align: right;\">\n",
       "      <th></th>\n",
       "      <th>frequency</th>\n",
       "      <th>recency</th>\n",
       "      <th>T</th>\n",
       "      <th>conditional_probability_alive</th>\n",
       "    </tr>\n",
       "    <tr>\n",
       "      <th>user_id</th>\n",
       "      <th></th>\n",
       "      <th></th>\n",
       "      <th></th>\n",
       "      <th></th>\n",
       "    </tr>\n",
       "  </thead>\n",
       "  <tbody>\n",
       "    <tr>\n",
       "      <th>43385</th>\n",
       "      <td>14.00</td>\n",
       "      <td>25.00</td>\n",
       "      <td>149.00</td>\n",
       "      <td>0.00</td>\n",
       "    </tr>\n",
       "    <tr>\n",
       "      <th>71870</th>\n",
       "      <td>29.00</td>\n",
       "      <td>52.00</td>\n",
       "      <td>119.00</td>\n",
       "      <td>0.00</td>\n",
       "    </tr>\n",
       "    <tr>\n",
       "      <th>112409</th>\n",
       "      <td>16.00</td>\n",
       "      <td>27.00</td>\n",
       "      <td>149.00</td>\n",
       "      <td>0.00</td>\n",
       "    </tr>\n",
       "    <tr>\n",
       "      <th>118945</th>\n",
       "      <td>66.00</td>\n",
       "      <td>119.00</td>\n",
       "      <td>149.00</td>\n",
       "      <td>0.00</td>\n",
       "    </tr>\n",
       "    <tr>\n",
       "      <th>273727</th>\n",
       "      <td>76.00</td>\n",
       "      <td>119.00</td>\n",
       "      <td>149.00</td>\n",
       "      <td>0.00</td>\n",
       "    </tr>\n",
       "  </tbody>\n",
       "</table>\n",
       "</div>"
      ],
      "text/plain": [
       "         frequency  recency      T  conditional_probability_alive\n",
       "user_id                                                          \n",
       "43385        14.00    25.00 149.00                           0.00\n",
       "71870        29.00    52.00 119.00                           0.00\n",
       "112409       16.00    27.00 149.00                           0.00\n",
       "118945       66.00   119.00 149.00                           0.00\n",
       "273727       76.00   119.00 149.00                           0.00"
      ]
     },
     "execution_count": 10,
     "metadata": {},
     "output_type": "execute_result"
    }
   ],
   "source": [
    "# BG/NBD 모델 적용하여 관찰 시점 기준 생존 가능성(이탈 가능성) 확인 \n",
    "summary['conditional_probability_alive'] = bgf.conditional_probability_alive(summary['frequency'], summary['recency'], summary['T'])\n",
    "summary[summary['conditional_probability_alive'] < 0.01].head(5)"
   ]
  },
  {
   "cell_type": "markdown",
   "id": "7187378f",
   "metadata": {},
   "source": [
    "#### 관찰 기간 동안의 이탈 고객 수의 합"
   ]
  },
  {
   "cell_type": "code",
   "execution_count": 11,
   "id": "0cda5a8e",
   "metadata": {
    "scrolled": true
   },
   "outputs": [],
   "source": [
    "import datetime\n",
    "\n",
    "observation_date = datetime.datetime.strptime(observation_date, '%Y-%m-%d')"
   ]
  },
  {
   "cell_type": "code",
   "execution_count": 15,
   "id": "3738ef30",
   "metadata": {
    "scrolled": true
   },
   "outputs": [
    {
     "name": "stdout",
     "output_type": "stream",
     "text": [
      "관찰 기간 동안의 이탈 고객 수의 합: 278명\n"
     ]
    }
   ],
   "source": [
    "# 관찰일 기준 30일 동안의 고객 이탈을 P(alive)를 계산하여 확인\n",
    "observation_date_pre = observation_date - timedelta(30)\n",
    "churn_user_list = []\n",
    "\n",
    "for i in range(1,30):\n",
    "\n",
    "    summary_pre = summary_data_from_transaction_data(s_df, 'user_id', 'date', observation_period_end = observation_date_pre)\n",
    "    summary_pre = summary_pre[summary_pre['frequency']>0]\n",
    "    \n",
    "    bgf = BetaGeoFitter(penalizer_coef=0.3)\n",
    "    bgf.fit(summary_pre['frequency'], summary_pre['recency'], summary_pre['T'])\n",
    "    \n",
    "    summary_pre['conditional_probability_alive'] = bgf.conditional_probability_alive(summary_pre['frequency'], summary_pre['recency'], summary_pre['T'])\n",
    "    \n",
    "    churn_user_list.append(list(summary_pre[summary_pre['conditional_probability_alive'] < 0.01].reset_index()['user_id']))\n",
    "\n",
    "    observation_date_pre = observation_date_pre + timedelta(1)\n",
    "\n",
    "churn_count = len(churn_user_list[0])\n",
    "    \n",
    "for j in np.arange(0,len(churn_user_list)-1):\n",
    "    set1 = set(churn_user_list[j])\n",
    "    set2 = set(churn_user_list[j+1])\n",
    "    \n",
    "    if set2 - set1 != set():\n",
    "        churn_count = churn_count + len(list(set2 - set1))\n",
    "        \n",
    "print(f\"관찰 기간 동안의 이탈 고객 수의 합: {churn_count}명\")"
   ]
  },
  {
   "cell_type": "markdown",
   "id": "0377fc2d",
   "metadata": {},
   "source": [
    "#### 관찰 기간 동안의 고객 수의 합"
   ]
  },
  {
   "cell_type": "code",
   "execution_count": 17,
   "id": "84ccd755",
   "metadata": {
    "scrolled": true
   },
   "outputs": [
    {
     "name": "stdout",
     "output_type": "stream",
     "text": [
      "관찰 시점 동안의 고객 수의 합: 12504명\n"
     ]
    }
   ],
   "source": [
    "observation_date_pre = observation_date - timedelta(30)\n",
    "active_user_count = 0\n",
    "\n",
    "for i in range(1,30):\n",
    "    \n",
    "    active_user_count = active_user_count+s_df[s_df['date'] == observation_date_pre].groupby('date')['user_id'].count().values\n",
    "    \n",
    "    observation_date_pre = observation_date_pre + timedelta(1)\n",
    "    \n",
    "print(f\"관찰 시점 동안의 고객 수의 합: {list(active_user_count)[0]}명\")"
   ]
  },
  {
   "cell_type": "markdown",
   "id": "93a44ae1",
   "metadata": {},
   "source": [
    "#### 연 구독 사용자의 LTV"
   ]
  },
  {
   "cell_type": "code",
   "execution_count": 30,
   "id": "505af876",
   "metadata": {},
   "outputs": [
    {
     "name": "stdout",
     "output_type": "stream",
     "text": [
      "- 구독 사용자의 LTV = 평균 수익 / 이탈률 \n",
      "- 평균 수익: 5,000원\n",
      "- 관찰 시점을 토대로 계산된 이탈률: 30*(278/12504)\n",
      "- 구독 사용자의 LTV = 7496원\n"
     ]
    }
   ],
   "source": [
    "print(f\"- 구독 사용자의 LTV = 평균 수익 / 이탈률 \")\n",
    "print(f\"- 평균 수익: 5,000원\")\n",
    "print(f\"- 관찰 시점을 토대로 계산된 이탈률: 30*({churn_count}/{list(active_user_count)[0]})\")\n",
    "print(f\"- 구독 사용자의 LTV = {round(5000/(30*(churn_count/list(active_user_count)[0])))}원\")"
   ]
  },
  {
   "cell_type": "markdown",
   "id": "bfd10e43",
   "metadata": {},
   "source": [
    "### 무료 사용자의 LTV: 57원\n",
    "\n",
    "#### 데이터 관찰 시점은 데이터의 최신일인 2021년 6월 30일로 설정"
   ]
  },
  {
   "cell_type": "code",
   "execution_count": 22,
   "id": "b797cf41",
   "metadata": {},
   "outputs": [],
   "source": [
    "# 관찰 시점\n",
    "observation_date='2021-06-30'"
   ]
  },
  {
   "cell_type": "code",
   "execution_count": 23,
   "id": "a6ad3524",
   "metadata": {},
   "outputs": [],
   "source": [
    "f_df = df[df['sub_type'] == \"f\"]\n",
    "\n",
    "# 일별 사용자가 서로 다른 기기로 이용했으면 다른 사용으로 보고 광고 수익 계산에 활용한다.\n",
    "f_df = pd.DataFrame(f_df.groupby(['user_id','date'])['device_id'].nunique()*10).rename(columns={'device_id':'revenue_per_days'})\n",
    "f_df.reset_index(inplace=True)"
   ]
  },
  {
   "cell_type": "code",
   "execution_count": 24,
   "id": "c8c1b51b",
   "metadata": {},
   "outputs": [
    {
     "data": {
      "text/html": [
       "<div>\n",
       "<style scoped>\n",
       "    .dataframe tbody tr th:only-of-type {\n",
       "        vertical-align: middle;\n",
       "    }\n",
       "\n",
       "    .dataframe tbody tr th {\n",
       "        vertical-align: top;\n",
       "    }\n",
       "\n",
       "    .dataframe thead th {\n",
       "        text-align: right;\n",
       "    }\n",
       "</style>\n",
       "<table border=\"1\" class=\"dataframe\">\n",
       "  <thead>\n",
       "    <tr style=\"text-align: right;\">\n",
       "      <th></th>\n",
       "      <th>frequency</th>\n",
       "      <th>recency</th>\n",
       "      <th>T</th>\n",
       "      <th>monetary_value</th>\n",
       "    </tr>\n",
       "    <tr>\n",
       "      <th>user_id</th>\n",
       "      <th></th>\n",
       "      <th></th>\n",
       "      <th></th>\n",
       "      <th></th>\n",
       "    </tr>\n",
       "  </thead>\n",
       "  <tbody>\n",
       "    <tr>\n",
       "      <th>7215</th>\n",
       "      <td>17.00</td>\n",
       "      <td>58.00</td>\n",
       "      <td>58.00</td>\n",
       "      <td>10.00</td>\n",
       "    </tr>\n",
       "    <tr>\n",
       "      <th>8253</th>\n",
       "      <td>13.00</td>\n",
       "      <td>28.00</td>\n",
       "      <td>28.00</td>\n",
       "      <td>10.00</td>\n",
       "    </tr>\n",
       "    <tr>\n",
       "      <th>8331</th>\n",
       "      <td>15.00</td>\n",
       "      <td>69.00</td>\n",
       "      <td>77.00</td>\n",
       "      <td>10.00</td>\n",
       "    </tr>\n",
       "    <tr>\n",
       "      <th>10699</th>\n",
       "      <td>9.00</td>\n",
       "      <td>25.00</td>\n",
       "      <td>58.00</td>\n",
       "      <td>10.00</td>\n",
       "    </tr>\n",
       "    <tr>\n",
       "      <th>14918</th>\n",
       "      <td>26.00</td>\n",
       "      <td>80.00</td>\n",
       "      <td>88.00</td>\n",
       "      <td>11.15</td>\n",
       "    </tr>\n",
       "  </tbody>\n",
       "</table>\n",
       "</div>"
      ],
      "text/plain": [
       "         frequency  recency     T  monetary_value\n",
       "user_id                                          \n",
       "7215         17.00    58.00 58.00           10.00\n",
       "8253         13.00    28.00 28.00           10.00\n",
       "8331         15.00    69.00 77.00           10.00\n",
       "10699         9.00    25.00 58.00           10.00\n",
       "14918        26.00    80.00 88.00           11.15"
      ]
     },
     "execution_count": 24,
     "metadata": {},
     "output_type": "execute_result"
    }
   ],
   "source": [
    "summary = summary_data_from_transaction_data(f_df, 'user_id', 'date', monetary_value_col='revenue_per_days', observation_period_end='2021-03-31')\n",
    "new_summary = summary[summary['monetary_value'] != 0]\n",
    "new_summary.head(5)"
   ]
  },
  {
   "cell_type": "code",
   "execution_count": 25,
   "id": "9b846a70",
   "metadata": {},
   "outputs": [
    {
     "data": {
      "text/plain": [
       "<lifetimes.GammaGammaFitter: fitted with 3836 subjects, p: 21.90, q: 34.85, v: 16.51>"
      ]
     },
     "execution_count": 25,
     "metadata": {},
     "output_type": "execute_result"
    }
   ],
   "source": [
    "bgf = BetaGeoFitter(penalizer_coef=0.0001)\n",
    "bgf.fit(new_summary['frequency'], new_summary['recency'], new_summary['T'])\n",
    "\n",
    "ggf = GammaGammaFitter(penalizer_coef = 0.0001)\n",
    "ggf.fit(new_summary['frequency'], new_summary['monetary_value'])"
   ]
  },
  {
   "cell_type": "code",
   "execution_count": 26,
   "id": "cbd3c33f",
   "metadata": {},
   "outputs": [],
   "source": [
    "new_summary['CLV'] = round(ggf.customer_lifetime_value(\n",
    "    bgf,\n",
    "    new_summary['frequency'],\n",
    "    new_summary['recency'],\n",
    "    new_summary['T'],\n",
    "    new_summary['monetary_value'],\n",
    "    time=1,\n",
    "    discount_rate=0\n",
    "),2)"
   ]
  },
  {
   "cell_type": "code",
   "execution_count": 27,
   "id": "a9b07e9f",
   "metadata": {},
   "outputs": [
    {
     "name": "stdout",
     "output_type": "stream",
     "text": [
      "- 무료 사용자의 LTV = RFM, BG/NBD, Gamma-Gamma 모델을 활용한 계산\n",
      "- 사용자당 일 평균 광고 수익: 10원\n",
      "- 무료 사용자의 LTV = 57원\n"
     ]
    }
   ],
   "source": [
    "print(f\"- 무료 사용자의 LTV = RFM, BG/NBD, Gamma-Gamma 모델을 활용한 계산\")\n",
    "print(f\"- 사용자당 일 평균 광고 수익: 10원\")\n",
    "print(f\"- 무료 사용자의 LTV = {round(new_summary['CLV'].mean())}원\")"
   ]
  }
 ],
 "metadata": {
  "kernelspec": {
   "display_name": "Python 3",
   "language": "python",
   "name": "python3"
  },
  "language_info": {
   "codemirror_mode": {
    "name": "ipython",
    "version": 3
   },
   "file_extension": ".py",
   "mimetype": "text/x-python",
   "name": "python",
   "nbconvert_exporter": "python",
   "pygments_lexer": "ipython3",
   "version": "3.8.10"
  },
  "toc": {
   "base_numbering": 1,
   "nav_menu": {},
   "number_sections": true,
   "sideBar": true,
   "skip_h1_title": false,
   "title_cell": "Table of Contents",
   "title_sidebar": "Contents",
   "toc_cell": false,
   "toc_position": {},
   "toc_section_display": true,
   "toc_window_display": false
  }
 },
 "nbformat": 4,
 "nbformat_minor": 5
}
